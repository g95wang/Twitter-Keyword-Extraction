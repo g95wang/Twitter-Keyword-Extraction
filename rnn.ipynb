{
  "nbformat": 4,
  "nbformat_minor": 0,
  "metadata": {
    "colab": {
      "name": "Copy_of_rnn.ipynb",
      "provenance": [],
      "collapsed_sections": []
    },
    "kernelspec": {
      "display_name": "Python 3",
      "name": "python3"
    },
    "language_info": {
      "codemirror_mode": {
        "name": "ipython",
        "version": 3
      },
      "file_extension": ".py",
      "mimetype": "text/x-python",
      "name": "python",
      "nbconvert_exporter": "python",
      "pygments_lexer": "ipython3",
      "version": "3.8.5"
    },
    "accelerator": "GPU"
  },
  "cells": [
    {
      "cell_type": "code",
      "metadata": {
        "id": "C7KNY4WEGjP3"
      },
      "source": [
        "# !pip install git+https://github.com/howl-anderson/tf_crf_layer.git\\\n"
      ],
      "execution_count": 1,
      "outputs": []
    },
    {
      "cell_type": "code",
      "metadata": {
        "id": "pwlPUBQa0Zdg"
      },
      "source": [
        "# import zipfile\n",
        "# with zipfile.ZipFile(\"processed-data-labeled.zip\",\"r\") as zip_ref:\n",
        "#     zip_ref.extractall(\"./\")\n",
        "# with zipfile.ZipFile(\"processed-data-unlabeled.zip\",\"r\") as zip_ref:\n",
        "#     zip_ref.extractall(\"./\")"
      ],
      "execution_count": 2,
      "outputs": []
    },
    {
      "cell_type": "code",
      "metadata": {
        "id": "xQlJnOuBFcEK"
      },
      "source": [
        "from copy import deepcopy\n",
        "import csv\n",
        "import os\n",
        "import numpy as np\n",
        "import tensorflow as tf\n",
        "from tensorflow.keras.models import Sequential\n",
        "from tensorflow.keras.layers import Embedding, Bidirectional, LSTM, Dense, Activation, Flatten, Input, Concatenate\n",
        "from tensorflow.keras.losses import BinaryCrossentropy\n",
        "import tensorflow_addons as tfa \n",
        "import matplotlib.pyplot as plt\n",
        "# from tf_crf_layer.layer import CRF\n",
        "# from tf_crf_layer.loss import crf_loss\n",
        "# from tf_crf_layer.metrics import crf_accuracy\n",
        "# from tf_crf_layer.crf_static_constraint_helper import allowed_transitions"
      ],
      "execution_count": 3,
      "outputs": []
    },
    {
      "cell_type": "code",
      "metadata": {
        "id": "zG-y5i499Qnu"
      },
      "source": [
        "threshold = 0.1\n",
        "hidden_size = 100\n",
        "word_embedding_dim = 300\n",
        "class_labels_number = 5\n",
        "num_text = 5\n",
        "epochs = 10\n",
        "use_unlabeled_dataset = False\n",
        "\n",
        "labeled_dataset_size = 1830\n",
        "train_dataset_size = 900\n",
        "validation_dataset_size = 100\n",
        "test_dataset_size = 830\n",
        "unlabeled_dataset_size = 4000\n",
        "\n",
        "pos_list = np.char.lower([\"ADJ\",\"ADP\",\"ADV\",\"AUX\",\"CONJ\",\"DET\",\"INTJ\",\"NOUN\",\"NUM\",\"PART\",\"PRON\",\"PROPN\",\"PUNCT\",\"SCONJ\",\"SYM\",\"VERB\",\"X\"])\n",
        "dep_list = np.char.lower([\"ROOT\", \"acl\", \"acomp\", \"advcl\", \"advmod\", \"agent\", \"amod\", \"appos\", \"attr\", \"aux\", \"auxpass\", \"case\", \"cc\", \"ccomp\", \"compound\", \"conj\", \"csubj\", \"csubjpass\", \"dative\", \"dep\", \"det\", \"dobj\", \"expl\", \"intj\", \"mark\", \"meta\", \"neg\", \"nmod\", \"npadvmod\", \"nsubj\", \"nsubjpass\", \"nummod\", \"oprd\", \"parataxis\", \"pcomp\", \"pobj\", \"poss\", \"preconj\", \"predet\", \"prep\", \"prt\", \"punct\", \"quantmod\", \"relcl\", \"xcomp\"])\n",
        "\n",
        "pos_dim = len(pos_list)\n",
        "dep_dim = len(dep_list)"
      ],
      "execution_count": 4,
      "outputs": []
    },
    {
      "cell_type": "code",
      "metadata": {
        "id": "71AmTAhcjUE7"
      },
      "source": [
        "def one_hot(vec, dic):\n",
        "    vec = np.char.lower(vec)\n",
        "    return np.array([dic == row for row in vec], dtype='i1')"
      ],
      "execution_count": 5,
      "outputs": []
    },
    {
      "cell_type": "code",
      "metadata": {
        "id": "hD_hXorkv6SE"
      },
      "source": [
        "labeled_dataset = []\n",
        "unlabeled_dataset = []\n",
        "\n",
        "train_dataset = []\n",
        "validation_dataset = []\n",
        "test_dataset = []\n",
        "ul_dataset = []\n",
        "\n",
        "for i in range(1, labeled_dataset_size + 1):\n",
        "    filename = \"processed-data-labeled/processed-labeled-tweet-{}.csv\".format(i)\n",
        "    if os.path.exists(filename):\n",
        "        with open(filename, newline='') as csvfile:\n",
        "            spamreader = csv.reader(csvfile, delimiter=',', quotechar='|')\n",
        "            data = [tuple(x) for x in spamreader]\n",
        "            data = np.array(data, dtype=([(\"text\", 'U20'),(\"simplified_text\", 'U20'), (\"best_match\", 'U20'), (\"index\", int), (\"pos\", 'U20'), (\"dep\", 'U20'), (\"stop\", 'U5'), (\"label\", 'i1')]))\n",
        "            if len(data):\n",
        "                labeled_dataset.append(data)\n",
        "\n",
        "for i in range(len(labeled_dataset)):\n",
        "    tweet = labeled_dataset[i]\n",
        "    text = tf.reshape(tweet[\"index\"], (1, -1, 1))\n",
        "    pos = tf.reshape(one_hot(tweet[\"pos\"], pos_list), (1, -1, pos_dim))\n",
        "    dep = tf.reshape(one_hot(tweet[\"dep\"], dep_list), (1, -1, dep_dim))\n",
        "    label = tf.reshape(tf.one_hot(tweet[\"label\"], 2), (1, -1, 2))\n",
        "    train_dataset.append((np.concatenate((text, pos, dep), axis=-1), label))\n",
        "\n",
        "for i in range(1, unlabeled_dataset_size + 1):\n",
        "    filename = \"processed-data-unlabeled/processed-unlabeled-tweet-{}.csv\".format(i)\n",
        "    if os.path.exists(filename):\n",
        "        with open(filename, newline='') as csvfile:\n",
        "            spamreader = csv.reader(csvfile, delimiter=',', quotechar='|')\n",
        "            data = [tuple(x) for x in spamreader]\n",
        "            data = np.array(data, dtype=([(\"text\", 'U20'),(\"simplified_text\", 'U20'), (\"best_match\", 'U20'), (\"index\", int), (\"pos\", 'U20'), (\"dep\", 'U20'), (\"stop\", 'U5')]))\n",
        "            if len(data):\n",
        "                unlabeled_dataset.append(data)\n",
        "\n",
        "for i in range(len(unlabeled_dataset)):\n",
        "    tweet = unlabeled_dataset[i]\n",
        "    text = tf.reshape(tweet[\"index\"], (1, -1, 1))\n",
        "    pos = tf.reshape(one_hot(tweet[\"pos\"], pos_list), (1, -1, pos_dim))\n",
        "    dep = tf.reshape(one_hot(tweet[\"dep\"], dep_list), (1, -1, dep_dim))\n",
        "    ul_dataset.append(np.concatenate((text, pos, dep), axis=-1))\n",
        "\n",
        "validation_dataset = train_dataset[901:1001]\n",
        "test_dataset = train_dataset[1001:1101]\n",
        "train_dataset = train_dataset[:901]\n",
        "\n",
        "used = np.zeros(len(ul_dataset))"
      ],
      "execution_count": 6,
      "outputs": []
    },
    {
      "cell_type": "code",
      "metadata": {
        "id": "zafkheWi_UUW",
        "outputId": "68b08140-394c-4f37-b06b-aeb9064e8526",
        "colab": {
          "base_uri": "https://localhost:8080/"
        }
      },
      "source": [
        "inputs = Input(shape=(None, pos_dim+dep_dim+1))\n",
        "x = Embedding(380000, word_embedding_dim)(inputs[:,:,0])\n",
        "x = Concatenate(axis=-1)([inputs[:,:,1:], x])\n",
        "x = Bidirectional(LSTM(100, return_sequences=True))(x)\n",
        "outputs = Dense(2, activation=tf.nn.sigmoid)(x)\n",
        "model = tf.keras.Model(inputs=inputs, outputs=outputs)\n",
        "model.summary()\n",
        "\n",
        "opt = tf.keras.optimizers.Adam(\n",
        "    learning_rate=0.01, beta_1=0.9, beta_2=0.999, epsilon=1e-07, amsgrad=False\n",
        ")\n",
        "model.compile(loss=BinaryCrossentropy(), optimizer=opt)"
      ],
      "execution_count": 7,
      "outputs": [
        {
          "output_type": "stream",
          "text": [
            "Model: \"functional_1\"\n",
            "__________________________________________________________________________________________________\n",
            "Layer (type)                    Output Shape         Param #     Connected to                     \n",
            "==================================================================================================\n",
            "input_1 (InputLayer)            [(None, None, 63)]   0                                            \n",
            "__________________________________________________________________________________________________\n",
            "tf_op_layer_strided_slice (Tens [(None, None)]       0           input_1[0][0]                    \n",
            "__________________________________________________________________________________________________\n",
            "tf_op_layer_strided_slice_1 (Te [(None, None, 62)]   0           input_1[0][0]                    \n",
            "__________________________________________________________________________________________________\n",
            "embedding (Embedding)           (None, None, 300)    114000000   tf_op_layer_strided_slice[0][0]  \n",
            "__________________________________________________________________________________________________\n",
            "concatenate (Concatenate)       (None, None, 362)    0           tf_op_layer_strided_slice_1[0][0]\n",
            "                                                                 embedding[0][0]                  \n",
            "__________________________________________________________________________________________________\n",
            "bidirectional (Bidirectional)   (None, None, 200)    370400      concatenate[0][0]                \n",
            "__________________________________________________________________________________________________\n",
            "dense (Dense)                   (None, None, 2)      402         bidirectional[0][0]              \n",
            "==================================================================================================\n",
            "Total params: 114,370,802\n",
            "Trainable params: 114,370,802\n",
            "Non-trainable params: 0\n",
            "__________________________________________________________________________________________________\n"
          ],
          "name": "stdout"
        }
      ]
    },
    {
      "cell_type": "code",
      "metadata": {
        "id": "C1SnsNm1XIJz"
      },
      "source": [
        "def metrics(prediction, label):\n",
        "    prediction = (prediction > 0.5)[0,:,1]\n",
        "    label = label[0,:,1]\n",
        "    true_positive = np.sum(np.logical_and((prediction == label), (prediction == True)))\n",
        "    false_positive = np.sum(np.logical_and((prediction != label), (prediction == True)))\n",
        "    false_negative = np.sum(np.logical_and((prediction != label), (prediction == False)))\n",
        "    precision = 0 if true_positive == 0 else true_positive / (true_positive + false_positive)\n",
        "    recall = 0 if true_positive == 0 else true_positive / (true_positive + false_negative)\n",
        "    f1 = 0 if true_positive == 0 else 2 / (1 / precision + 1 / recall)\n",
        "    return precision, recall, f1"
      ],
      "execution_count": 8,
      "outputs": []
    },
    {
      "cell_type": "code",
      "metadata": {
        "id": "d76m7j_lxddr"
      },
      "source": [
        "def train_step(tweet):\n",
        "    x,y = tweet[0], tweet[1]\n",
        "    model.fit(x, y, verbose=0)\n",
        "    prediction = predict_step(x)\n",
        "    return metrics(prediction, y)"
      ],
      "execution_count": 9,
      "outputs": []
    },
    {
      "cell_type": "code",
      "metadata": {
        "id": "Lryr-avIH-mC"
      },
      "source": [
        "def eval_step(tweet):\n",
        "    x,y = tweet[0], tweet[1]\n",
        "    prediction = predict_step(x)\n",
        "    return metrics(prediction, y)"
      ],
      "execution_count": 10,
      "outputs": []
    },
    {
      "cell_type": "code",
      "metadata": {
        "id": "LAtJMaJ6XOWo"
      },
      "source": [
        "def predict_step(tweet):\n",
        "    return model.predict(tweet)"
      ],
      "execution_count": 11,
      "outputs": []
    },
    {
      "cell_type": "code",
      "metadata": {
        "id": "6OB2W1W7dAi6"
      },
      "source": [
        "def neg_log(prediction):\n",
        "    return -np.mean(np.log(np.amax(prediction, axis=-1)))"
      ],
      "execution_count": 12,
      "outputs": []
    },
    {
      "cell_type": "code",
      "metadata": {
        "id": "sjV4QhB9urAJ"
      },
      "source": [
        "train_p, train_r, train_f = [], [], []\n",
        "val_p, val_r, val_f = [], [], []\n",
        "\n",
        "def semi_supervised():\n",
        "    for epoch in range(epochs):\n",
        "\n",
        "        print(\"Training epoch {}\".format(epoch+1))\n",
        "        count = 0\n",
        "        total = 0\n",
        "        precision, recall, f1 = 0, 0, 0\n",
        "        for tweet in train_dataset:\n",
        "            if count % 100 == 0:\n",
        "                print(\"Training iter {}\".format(count))\n",
        "            p, r, f = train_step(tweet)\n",
        "            total += tweet[0].shape[1]\n",
        "            precision += p * tweet[0].shape[1]\n",
        "            recall += r * tweet[0].shape[1]\n",
        "            f1 += f * tweet[0].shape[1]\n",
        "            count += 1\n",
        "        train_p.append(precision / total)\n",
        "        train_r.append(recall / total)\n",
        "        train_f.append(f1 / total)\n",
        "\n",
        "        print(\"Validation\")\n",
        "        total = 0\n",
        "        precision, recall, f1 = 0, 0, 0\n",
        "        for tweet in validation_dataset:\n",
        "            p, r, f = eval_step(tweet)\n",
        "            total += tweet[0].shape[1]\n",
        "            precision += p * tweet[0].shape[1]\n",
        "            recall += r * tweet[0].shape[1]\n",
        "            f1 += f * tweet[0].shape[1]\n",
        "\n",
        "        if len(val_f) == 0 or f1 / total > np.amax(val_f):\n",
        "            model.save_weights('./checkpoint')\n",
        "\n",
        "        val_p.append(precision / total)\n",
        "        val_r.append(recall / total)\n",
        "        val_f.append(f1 / total)\n",
        "\n",
        "        if use_unlabeled_dataset == True:\n",
        "            print(\"Enlarging training set\")\n",
        "            added = 0\n",
        "            for i in range(len(ul_dataset)):\n",
        "                tweet = ul_dataset[i]\n",
        "                if used[i] == False:\n",
        "                    prediction = predict_step(tweet)\n",
        "                    if neg_log(prediction) < threshold:\n",
        "                        label = prediction > 0.5\n",
        "                        train_dataset.append((tweet, label))\n",
        "                        used[i] = True\n",
        "                        added += 1\n",
        "            \n",
        "            print(\"Added {} data points to training set\".format(added))\n",
        "\n",
        "\n",
        "    model.load_weights('./checkpoint')\n",
        "    for tweet in test_dataset:\n",
        "        p, r, f = eval_step(tweet)\n",
        "        total += tweet[0].shape[1]\n",
        "        precision += p * tweet[0].shape[1]\n",
        "        recall += r * tweet[0].shape[1]\n",
        "        f1 += f * tweet[0].shape[1]\n",
        "    print(\"Test Dataset precision = {}, recall = {}, f1 = {}\".format(precision / total, recall / total, f1 / total))\n"
      ],
      "execution_count": 13,
      "outputs": []
    },
    {
      "cell_type": "code",
      "metadata": {
        "id": "kk74kr-28h6D",
        "outputId": "934d7376-135b-481e-8eb0-07170640fac9",
        "colab": {
          "base_uri": "https://localhost:8080/"
        }
      },
      "source": [
        "semi_supervised()"
      ],
      "execution_count": 14,
      "outputs": [
        {
          "output_type": "stream",
          "text": [
            "Training epoch 1\n",
            "Training iter 0\n",
            "Validation\n",
            "Training epoch 2\n",
            "Training iter 0\n",
            "Validation\n",
            "Training epoch 3\n",
            "Training iter 0\n",
            "Validation\n",
            "Training epoch 4\n",
            "Training iter 0\n",
            "Validation\n",
            "Training epoch 5\n",
            "Training iter 0\n",
            "Validation\n",
            "Test Dataset precision = 0.0048551816507617605, recall = 0.007533902561526871, f1 = 0.0055248618784530384\n"
          ],
          "name": "stdout"
        }
      ]
    },
    {
      "cell_type": "code",
      "metadata": {
        "id": "_QAAaqh0Hywq",
        "outputId": "7d143494-b920-4508-ccae-eaa8bbe03b5b",
        "colab": {
          "base_uri": "https://localhost:8080/"
        }
      },
      "source": [
        "print(train_p, train_r, train_f)\n",
        "print(val_p, val_r, val_f)"
      ],
      "execution_count": 15,
      "outputs": [
        {
          "output_type": "stream",
          "text": [
            "[0.0, 0.16666666666666666, 0.16666666666666666, 0.16666666666666666, 1.0] [0.0, 0.16666666666666666, 0.16666666666666666, 0.16666666666666666, 1.0] [0.0, 0.16666666666666666, 0.16666666666666666, 0.16666666666666666, 1.0]\n",
            "[0.0, 0.0, 0.0, 0.001001001001001001, 0.0036703370036703367] [0.0, 0.0, 0.0, 0.001001001001001001, 0.009009009009009009] [0.0, 0.0, 0.0, 0.001001001001001001, 0.005005005005005005]\n"
          ],
          "name": "stdout"
        }
      ]
    },
    {
      "cell_type": "code",
      "metadata": {
        "id": "LIF_4MjNJL3W",
        "outputId": "9017aa12-d96f-4bb5-efd0-2fd301617869",
        "colab": {
          "base_uri": "https://localhost:8080/",
          "height": 573
        }
      },
      "source": [
        "# Plot training accuracy\n",
        "plt.plot(train_p)\n",
        "plt.plot(train_r)\n",
        "plt.plot(train_f)\n",
        "plt.title('training')\n",
        "plt.ylabel('score')\n",
        "plt.xlabel('epoch')\n",
        "plt.legend([\"precision\", \"recall\", \"f1\"], loc='upper left')\n",
        "plt.show()\n",
        "\n",
        "# Plot validation accuracy\n",
        "plt.plot(val_p)\n",
        "plt.plot(val_r)\n",
        "plt.plot(val_f)\n",
        "plt.title('validation')\n",
        "plt.ylabel('score')\n",
        "plt.xlabel('epoch')\n",
        "plt.legend([\"precision\", \"recall\", \"f1\"], loc='upper left')\n",
        "plt.show()\n"
      ],
      "execution_count": 16,
      "outputs": [
        {
          "output_type": "display_data",
          "data": {
            "image/png": "[encoded data removed]",
            "text/plain": [
              "<Figure size 432x288 with 1 Axes>"
            ]
          },
          "metadata": {
            "tags": [],
            "needs_background": "light"
          }
        },
        {
          "output_type": "display_data",
          "data": {
            "image/png": "[encoded data removed]",
            "text/plain": [
              "<Figure size 432x288 with 1 Axes>"
            ]
          },
          "metadata": {
            "tags": [],
            "needs_background": "light"
          }
        }
      ]
    }
  ]
}