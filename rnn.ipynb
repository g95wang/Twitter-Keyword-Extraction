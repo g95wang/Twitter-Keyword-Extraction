{
 "cells": [
  {
   "cell_type": "markdown",
   "metadata": {
    "id": "Iri9-y9bftAu"
   },
   "source": [
    "When using Google Colab, upload the compressed datasets and run the cell below to decompress the dataset\n",
    "\n",
    "---\n",
    "\n"
   ]
  },
  {
   "cell_type": "code",
   "execution_count": 1,
   "metadata": {
    "id": "pwlPUBQa0Zdg"
   },
   "outputs": [],
   "source": [
    "# import zipfile\n",
    "# with zipfile.ZipFile(\"processed-data-labeled.zip\",\"r\") as zip_ref:\n",
    "#     zip_ref.extractall(\"./\")\n",
    "# with zipfile.ZipFile(\"processed-data-unlabeled.zip\",\"r\") as zip_ref:\n",
    "#     zip_ref.extractall(\"./\")"
   ]
  },
  {
   "cell_type": "markdown",
   "metadata": {
    "id": "0-S5_2rwf76c"
   },
   "source": [
    "Import libraries"
   ]
  },
  {
   "cell_type": "code",
   "execution_count": 2,
   "metadata": {
    "id": "xQlJnOuBFcEK"
   },
   "outputs": [],
   "source": [
    "import csv\n",
    "import os\n",
    "import numpy as np\n",
    "import tensorflow as tf\n",
    "from tensorflow.keras.models import Sequential\n",
    "from tensorflow.keras.layers import Embedding, Bidirectional, LSTM, Dense, Activation, Flatten, Input, Concatenate\n",
    "from tensorflow.keras.losses import BinaryCrossentropy\n",
    "import tensorflow_addons as tfa \n",
    "import matplotlib.pyplot as plt"
   ]
  },
  {
   "cell_type": "markdown",
   "metadata": {
    "id": "1_eBbLh-f-Io"
   },
   "source": [
    "Global hyperparameters and constants"
   ]
  },
  {
   "cell_type": "code",
   "execution_count": 3,
   "metadata": {
    "id": "zG-y5i499Qnu"
   },
   "outputs": [],
   "source": [
    "threshold = 0.01\n",
    "hidden_size = 100\n",
    "word_embedding_dim = 300\n",
    "epochs = 10\n",
    "use_unlabeled_dataset = True\n",
    "\n",
    "labeled_dataset_size = 1830\n",
    "train_dataset_size = 900\n",
    "validation_dataset_size = 100\n",
    "test_dataset_size = 830\n",
    "unlabeled_dataset_size = 4000\n",
    "\n",
    "pos_list = np.char.lower([\"ADJ\",\"ADP\",\"ADV\",\"AUX\",\"CONJ\",\"DET\",\"INTJ\",\"NOUN\",\"NUM\",\"PART\",\"PRON\",\"PROPN\",\"PUNCT\",\"SCONJ\",\"SYM\",\"VERB\",\"X\"])\n",
    "dep_list = np.char.lower([\"ROOT\", \"acl\", \"acomp\", \"advcl\", \"advmod\", \"agent\", \"amod\", \"appos\", \"attr\", \"aux\", \"auxpass\", \"case\", \"cc\", \"ccomp\", \"compound\", \"conj\", \"csubj\", \"csubjpass\", \"dative\", \"dep\", \"det\", \"dobj\", \"expl\", \"intj\", \"mark\", \"meta\", \"neg\", \"nmod\", \"npadvmod\", \"nsubj\", \"nsubjpass\", \"nummod\", \"oprd\", \"parataxis\", \"pcomp\", \"pobj\", \"poss\", \"preconj\", \"predet\", \"prep\", \"prt\", \"punct\", \"quantmod\", \"relcl\", \"xcomp\"])\n",
    "\n",
    "pos_dim = len(pos_list)\n",
    "dep_dim = len(dep_list)"
   ]
  },
  {
   "cell_type": "markdown",
   "metadata": {
    "id": "5JfAGtBPgGd4"
   },
   "source": [
    "# Load Data"
   ]
  },
  {
   "cell_type": "code",
   "execution_count": 4,
   "metadata": {
    "id": "71AmTAhcjUE7"
   },
   "outputs": [],
   "source": [
    "# Helper function to one-hot encode the labels\n",
    "def one_hot(vec, dic):\n",
    "    vec = np.char.lower(vec)\n",
    "    return np.array([dic == row for row in vec], dtype='i1')"
   ]
  },
  {
   "cell_type": "code",
   "execution_count": 5,
   "metadata": {
    "id": "hD_hXorkv6SE"
   },
   "outputs": [],
   "source": [
    "labeled_dataset = []\n",
    "unlabeled_dataset = []\n",
    "\n",
    "train_dataset = []\n",
    "validation_dataset = []\n",
    "test_dataset = []\n",
    "ul_dataset = []\n",
    "\n",
    "# Read labeled dataset\n",
    "for i in range(1, labeled_dataset_size + 1):\n",
    "    filename = \"processed-data-labeled/processed-labeled-tweet-{}.csv\".format(i)\n",
    "    if os.path.exists(filename):\n",
    "        with open(filename, newline='') as csvfile:\n",
    "            spamreader = csv.reader(csvfile, delimiter=',', quotechar='|')\n",
    "            data = [tuple(x) for x in spamreader]\n",
    "            data = np.array(data, dtype=([(\"text\", 'U20'),(\"simplified_text\", 'U20'), (\"best_match\", 'U20'), (\"index\", int), (\"pos\", 'U20'), (\"dep\", 'U20'), (\"stop\", 'U5'), (\"label\", 'i1')]))\n",
    "            if len(data):\n",
    "                labeled_dataset.append(data)\n",
    "\n",
    "# Reshape labeled dataset\n",
    "for i in range(len(labeled_dataset)):\n",
    "    tweet = labeled_dataset[i]\n",
    "    text = tf.reshape(tweet[\"index\"], (1, -1, 1))\n",
    "    pos = tf.reshape(one_hot(tweet[\"pos\"], pos_list), (1, -1, pos_dim))\n",
    "    dep = tf.reshape(one_hot(tweet[\"dep\"], dep_list), (1, -1, dep_dim))\n",
    "    label = tf.reshape(tf.one_hot(tweet[\"label\"], 2), (1, -1, 2))\n",
    "    train_dataset.append((np.concatenate((text, pos, dep), axis=-1), label))\n",
    "\n",
    "# Read unlabeled dataset\n",
    "for i in range(1, unlabeled_dataset_size + 1):\n",
    "    filename = \"processed-data-unlabeled/processed-unlabeled-tweet-{}.csv\".format(i)\n",
    "    if os.path.exists(filename):\n",
    "        with open(filename, newline='') as csvfile:\n",
    "            spamreader = csv.reader(csvfile, delimiter=',', quotechar='|')\n",
    "            data = [tuple(x) for x in spamreader]\n",
    "            data = np.array(data, dtype=([(\"text\", 'U20'),(\"simplified_text\", 'U20'), (\"best_match\", 'U20'), (\"index\", int), (\"pos\", 'U20'), (\"dep\", 'U20'), (\"stop\", 'U5')]))\n",
    "            if len(data):\n",
    "                unlabeled_dataset.append(data)\n",
    "\n",
    "# Reshape unlabeled dataset\n",
    "for i in range(len(unlabeled_dataset)):\n",
    "    tweet = unlabeled_dataset[i]\n",
    "    text = tf.reshape(tweet[\"index\"], (1, -1, 1))\n",
    "    pos = tf.reshape(one_hot(tweet[\"pos\"], pos_list), (1, -1, pos_dim))\n",
    "    dep = tf.reshape(one_hot(tweet[\"dep\"], dep_list), (1, -1, dep_dim))\n",
    "    ul_dataset.append(np.concatenate((text, pos, dep), axis=-1))\n",
    "\n",
    "# Split labeled dataset\n",
    "validation_dataset = train_dataset[901:1001]\n",
    "test_dataset = train_dataset[1001:1101]\n",
    "train_dataset = train_dataset[:901]\n",
    "\n",
    "used = np.zeros(len(ul_dataset))"
   ]
  },
  {
   "cell_type": "markdown",
   "metadata": {
    "id": "btXycf5wgYNQ"
   },
   "source": [
    "# Define RNN Model"
   ]
  },
  {
   "cell_type": "code",
   "execution_count": 6,
   "metadata": {
    "id": "zafkheWi_UUW"
   },
   "outputs": [
    {
     "name": "stdout",
     "output_type": "stream",
     "text": [
      "Model: \"functional_1\"\n",
      "__________________________________________________________________________________________________\n",
      "Layer (type)                    Output Shape         Param #     Connected to                     \n",
      "==================================================================================================\n",
      "input_1 (InputLayer)            [(None, None, 63)]   0                                            \n",
      "__________________________________________________________________________________________________\n",
      "tf_op_layer_strided_slice (Tens [(None, None)]       0           input_1[0][0]                    \n",
      "__________________________________________________________________________________________________\n",
      "tf_op_layer_strided_slice_1 (Te [(None, None, 62)]   0           input_1[0][0]                    \n",
      "__________________________________________________________________________________________________\n",
      "embedding (Embedding)           (None, None, 300)    114000000   tf_op_layer_strided_slice[0][0]  \n",
      "__________________________________________________________________________________________________\n",
      "concatenate (Concatenate)       (None, None, 362)    0           tf_op_layer_strided_slice_1[0][0]\n",
      "                                                                 embedding[0][0]                  \n",
      "__________________________________________________________________________________________________\n",
      "bidirectional (Bidirectional)   (None, None, 200)    370400      concatenate[0][0]                \n",
      "__________________________________________________________________________________________________\n",
      "dense (Dense)                   (None, None, 2)      402         bidirectional[0][0]              \n",
      "==================================================================================================\n",
      "Total params: 114,370,802\n",
      "Trainable params: 114,370,802\n",
      "Non-trainable params: 0\n",
      "__________________________________________________________________________________________________\n"
     ]
    }
   ],
   "source": [
    "inputs = Input(shape=(None, pos_dim+dep_dim+1))\n",
    "x = Embedding(380000, word_embedding_dim)(inputs[:,:,0])\n",
    "x = Concatenate(axis=-1)([inputs[:,:,1:], x])\n",
    "x = Bidirectional(LSTM(100, return_sequences=True))(x)\n",
    "outputs = Dense(2, activation=tf.nn.sigmoid)(x)\n",
    "model = tf.keras.Model(inputs=inputs, outputs=outputs)\n",
    "model.summary()\n",
    "\n",
    "opt = tf.keras.optimizers.Adam(\n",
    "    learning_rate=0.01, beta_1=0.9, beta_2=0.999, epsilon=1e-07, amsgrad=False\n",
    ")\n",
    "model.compile(loss=BinaryCrossentropy(), optimizer=opt)"
   ]
  },
  {
   "cell_type": "code",
   "execution_count": 7,
   "metadata": {
    "id": "C1SnsNm1XIJz"
   },
   "outputs": [],
   "source": [
    "# Define precision, recall and F-1 metrics\n",
    "def metrics(prediction, label):\n",
    "    prediction = (prediction > 0.5)[0,:,1]\n",
    "    label = label[0,:,1]\n",
    "    true_positive = np.sum(np.logical_and((prediction == label), (prediction == True)))\n",
    "    false_positive = np.sum(np.logical_and((prediction != label), (prediction == True)))\n",
    "    false_negative = np.sum(np.logical_and((prediction != label), (prediction == False)))\n",
    "    precision = 0 if true_positive == 0 else true_positive / (true_positive + false_positive)\n",
    "    recall = 0 if true_positive == 0 else true_positive / (true_positive + false_negative)\n",
    "    f1 = 0 if true_positive == 0 else 2 / (1 / precision + 1 / recall)\n",
    "    return precision, recall, f1"
   ]
  },
  {
   "cell_type": "markdown",
   "metadata": {
    "id": "hmlNO8iAgi7O"
   },
   "source": [
    "# Training"
   ]
  },
  {
   "cell_type": "code",
   "execution_count": 8,
   "metadata": {
    "id": "d76m7j_lxddr"
   },
   "outputs": [],
   "source": [
    "def train_step(tweet):\n",
    "    x,y = tweet[0], tweet[1]\n",
    "    model.fit(x, y, verbose=0)\n",
    "    prediction = predict_step(x)\n",
    "    return metrics(prediction, y)"
   ]
  },
  {
   "cell_type": "code",
   "execution_count": 9,
   "metadata": {
    "id": "Lryr-avIH-mC"
   },
   "outputs": [],
   "source": [
    "def eval_step(tweet):\n",
    "    x,y = tweet[0], tweet[1]\n",
    "    prediction = predict_step(x)\n",
    "    return metrics(prediction, y)"
   ]
  },
  {
   "cell_type": "code",
   "execution_count": 10,
   "metadata": {
    "id": "LAtJMaJ6XOWo"
   },
   "outputs": [],
   "source": [
    "def predict_step(tweet):\n",
    "    return model.predict(tweet)"
   ]
  },
  {
   "cell_type": "code",
   "execution_count": 11,
   "metadata": {
    "id": "6OB2W1W7dAi6"
   },
   "outputs": [],
   "source": [
    "def neg_log(prediction):\n",
    "    return -np.mean(np.log(np.amax(prediction, axis=-1)))"
   ]
  },
  {
   "cell_type": "code",
   "execution_count": 12,
   "metadata": {
    "id": "sjV4QhB9urAJ"
   },
   "outputs": [],
   "source": [
    "train_p, train_r, train_f = [], [], []\n",
    "val_p, val_r, val_f = [], [], []\n",
    "\n",
    "def semi_supervised():\n",
    "    for epoch in range(epochs):\n",
    "\n",
    "        print(\"Training epoch {}\".format(epoch+1))\n",
    "        count = 0\n",
    "        total = 0\n",
    "        precision, recall, f1 = 0, 0, 0\n",
    "        for tweet in train_dataset:\n",
    "            if count % 100 == 0:\n",
    "                print(\"Training iter {}\".format(count))\n",
    "            p, r, f = train_step(tweet)\n",
    "            total += tweet[0].shape[1]\n",
    "            precision += p * tweet[0].shape[1]\n",
    "            recall += r * tweet[0].shape[1]\n",
    "            f1 += f * tweet[0].shape[1]\n",
    "            count += 1\n",
    "        train_p.append(precision / total)\n",
    "        train_r.append(recall / total)\n",
    "        train_f.append(f1 / total)\n",
    "\n",
    "        print(\"Validation\")\n",
    "        total = 0\n",
    "        precision, recall, f1 = 0, 0, 0\n",
    "        for tweet in validation_dataset:\n",
    "            p, r, f = eval_step(tweet)\n",
    "            total += tweet[0].shape[1]\n",
    "            precision += p * tweet[0].shape[1]\n",
    "            recall += r * tweet[0].shape[1]\n",
    "            f1 += f * tweet[0].shape[1]\n",
    "\n",
    "        if len(val_f) == 0 or f1 / total > np.amax(val_f):\n",
    "            model.save_weights('./checkpoint/checkpoint')\n",
    "\n",
    "        val_p.append(precision / total)\n",
    "        val_r.append(recall / total)\n",
    "        val_f.append(f1 / total)\n",
    "\n",
    "        if use_unlabeled_dataset == True:\n",
    "            print(\"Enlarging training set\")\n",
    "            added = 0\n",
    "            for i in range(len(ul_dataset)):\n",
    "                tweet = ul_dataset[i]\n",
    "                if used[i] == False:\n",
    "                    prediction = predict_step(tweet)\n",
    "                    if neg_log(prediction) < threshold:\n",
    "                        label = prediction > 0.5\n",
    "                        train_dataset.append((tweet, label))\n",
    "                        used[i] = True\n",
    "                        added += 1\n",
    "            \n",
    "            print(\"Added {} data points to training set\".format(added))\n",
    "\n",
    "        print(train_p, train_r, train_f)\n",
    "        print(val_p, val_r, val_f)\n",
    "\n",
    "\n",
    "    model.load_weights('./checkpoint/checkpoint')\n",
    "    for tweet in test_dataset:\n",
    "        p, r, f = eval_step(tweet)\n",
    "        total += tweet[0].shape[1]\n",
    "        precision += p * tweet[0].shape[1]\n",
    "        recall += r * tweet[0].shape[1]\n",
    "        f1 += f * tweet[0].shape[1]\n",
    "    print(\"Test Dataset precision = {}, recall = {}, f1 = {}\".format(precision / total, recall / total, f1 / total))\n"
   ]
  },
  {
   "cell_type": "code",
   "execution_count": 13,
   "metadata": {
    "id": "kk74kr-28h6D"
   },
   "outputs": [
    {
     "name": "stdout",
     "output_type": "stream",
     "text": [
      "Training epoch 1\n",
      "Training iter 0\n",
      "Training iter 100\n",
      "Training iter 200\n",
      "Training iter 300\n",
      "Training iter 400\n",
      "Training iter 500\n",
      "Training iter 600\n",
      "Training iter 700\n",
      "Training iter 800\n",
      "Training iter 900\n",
      "Validation\n",
      "Enlarging training set\n",
      "Added 0 data points to training set\n",
      "[0.15264780558578164] [0.11380123322451942] [0.12452614125084198]\n",
      "[0.03303303303303303] [0.026526526526526525] [0.02869536202869536]\n",
      "Training epoch 2\n",
      "Training iter 0\n",
      "Training iter 100\n",
      "Training iter 200\n",
      "Training iter 300\n",
      "Training iter 400\n",
      "Training iter 500\n",
      "Training iter 600\n",
      "Training iter 700\n",
      "Training iter 800\n",
      "Training iter 900\n",
      "Validation\n",
      "Enlarging training set\n",
      "Added 2 data points to training set\n",
      "[0.15264780558578164, 0.772076532462822] [0.11380123322451942, 0.7490660137830976] [0.12452614125084198, 0.7416506743166156]\n",
      "[0.03303303303303303, 0.34634634634634637] [0.026526526526526525, 0.47122122122122123] [0.02869536202869536, 0.3703274703274703]\n",
      "Training epoch 3\n",
      "Training iter 0\n",
      "Training iter 100\n",
      "Training iter 200\n",
      "Training iter 300\n",
      "Training iter 400\n",
      "Training iter 500\n",
      "Training iter 600\n",
      "Training iter 700\n",
      "Training iter 800\n",
      "Training iter 900\n",
      "Validation\n",
      "Enlarging training set\n",
      "Added 9 data points to training set\n",
      "[0.15264780558578164, 0.772076532462822, 0.7944963937515857] [0.11380123322451942, 0.7490660137830976, 0.7730872385922948] [0.12452614125084198, 0.7416506743166156, 0.7658201173260435]\n",
      "[0.03303303303303303, 0.34634634634634637, 0.26359693026359693] [0.026526526526526525, 0.47122122122122123, 0.2509175842509176] [0.02869536202869536, 0.3703274703274703, 0.2331331331331331]\n",
      "Training epoch 4\n",
      "Training iter 0\n",
      "Training iter 100\n",
      "Training iter 200\n",
      "Training iter 300\n",
      "Training iter 400\n",
      "Training iter 500\n",
      "Training iter 600\n",
      "Training iter 700\n",
      "Training iter 800\n",
      "Training iter 900\n",
      "Validation\n",
      "Enlarging training set\n",
      "Added 25 data points to training set\n",
      "[0.15264780558578164, 0.772076532462822, 0.7944963937515857, 0.8175222893298822] [0.11380123322451942, 0.7490660137830976, 0.7730872385922948, 0.7874298964624677] [0.12452614125084198, 0.7416506743166156, 0.7658201173260435, 0.787095042935207]\n",
      "[0.03303303303303303, 0.34634634634634637, 0.26359693026359693, 0.37460794127460795] [0.026526526526526525, 0.47122122122122123, 0.2509175842509176, 0.3432599265932599] [0.02869536202869536, 0.3703274703274703, 0.2331331331331331, 0.33250869917536585]\n",
      "Training epoch 5\n",
      "Training iter 0\n",
      "Training iter 100\n",
      "Training iter 200\n",
      "Training iter 300\n",
      "Training iter 400\n",
      "Training iter 500\n",
      "Training iter 600\n",
      "Training iter 700\n",
      "Training iter 800\n",
      "Training iter 900\n",
      "Validation\n",
      "Enlarging training set\n",
      "Added 158 data points to training set\n",
      "[0.15264780558578164, 0.772076532462822, 0.7944963937515857, 0.8175222893298822, 0.8125852878464817] [0.11380123322451942, 0.7490660137830976, 0.7730872385922948, 0.7874298964624677, 0.7849324804548685] [0.12452614125084198, 0.7416506743166156, 0.7658201173260435, 0.787095042935207, 0.7829383693776021]\n",
      "[0.03303303303303303, 0.34634634634634637, 0.26359693026359693, 0.37460794127460795, 0.298631965298632] [0.026526526526526525, 0.47122122122122123, 0.2509175842509176, 0.3432599265932599, 0.2246413079746413] [0.02869536202869536, 0.3703274703274703, 0.2331331331331331, 0.33250869917536585, 0.23810477143810477]\n",
      "Training epoch 6\n",
      "Training iter 0\n",
      "Training iter 100\n",
      "Training iter 200\n",
      "Training iter 300\n",
      "Training iter 400\n",
      "Training iter 500\n",
      "Training iter 600\n",
      "Training iter 700\n",
      "Training iter 800\n",
      "Training iter 900\n",
      "Training iter 1000\n",
      "Validation\n",
      "Enlarging training set\n",
      "Added 1100 data points to training set\n",
      "[0.15264780558578164, 0.772076532462822, 0.7944963937515857, 0.8175222893298822, 0.8125852878464817, 0.7328975528054341] [0.11380123322451942, 0.7490660137830976, 0.7730872385922948, 0.7874298964624677, 0.7849324804548685, 0.7046121398219659] [0.12452614125084198, 0.7416506743166156, 0.7658201173260435, 0.787095042935207, 0.7829383693776021, 0.70591261348682]\n",
      "[0.03303303303303303, 0.34634634634634637, 0.26359693026359693, 0.37460794127460795, 0.298631965298632, 0.07557557557557558] [0.026526526526526525, 0.47122122122122123, 0.2509175842509176, 0.3432599265932599, 0.2246413079746413, 0.06856856856856856] [0.02869536202869536, 0.3703274703274703, 0.2331331331331331, 0.33250869917536585, 0.23810477143810477, 0.06606606606606606]\n",
      "Training epoch 7\n",
      "Training iter 0\n",
      "Training iter 100\n",
      "Training iter 200\n",
      "Training iter 300\n",
      "Training iter 400\n",
      "Training iter 500\n",
      "Training iter 600\n",
      "Training iter 700\n",
      "Training iter 800\n",
      "Training iter 900\n",
      "Training iter 1000\n",
      "Training iter 1100\n",
      "Training iter 1200\n",
      "Training iter 1300\n",
      "Training iter 1400\n",
      "Training iter 1500\n",
      "Training iter 1600\n",
      "Training iter 1700\n",
      "Training iter 1800\n",
      "Training iter 1900\n",
      "Training iter 2000\n",
      "Training iter 2100\n",
      "Validation\n",
      "Enlarging training set\n",
      "Added 2059 data points to training set\n",
      "[0.15264780558578164, 0.772076532462822, 0.7944963937515857, 0.8175222893298822, 0.8125852878464817, 0.7328975528054341, 0.322398406374502] [0.11380123322451942, 0.7490660137830976, 0.7730872385922948, 0.7874298964624677, 0.7849324804548685, 0.7046121398219659, 0.30773373173970786] [0.12452614125084198, 0.7416506743166156, 0.7658201173260435, 0.787095042935207, 0.7829383693776021, 0.70591261348682, 0.30910244735344333]\n",
      "[0.03303303303303303, 0.34634634634634637, 0.26359693026359693, 0.37460794127460795, 0.298631965298632, 0.07557557557557558, 0.016016016016016016] [0.026526526526526525, 0.47122122122122123, 0.2509175842509176, 0.3432599265932599, 0.2246413079746413, 0.06856856856856856, 0.016016016016016016] [0.02869536202869536, 0.3703274703274703, 0.2331331331331331, 0.33250869917536585, 0.23810477143810477, 0.06606606606606606, 0.016016016016016016]\n",
      "Test Dataset precision = 0.15251847599913898, recall = 0.22375690607734808, f1 = 0.17018241538583073\n"
     ]
    }
   ],
   "source": [
    "semi_supervised()"
   ]
  },
  {
   "cell_type": "markdown",
   "metadata": {
    "id": "gvvjGmPBgnDh"
   },
   "source": [
    "# Plot Results"
   ]
  },
  {
   "cell_type": "code",
   "execution_count": 14,
   "metadata": {
    "id": "LIF_4MjNJL3W"
   },
   "outputs": [
    {
     "data": {
      "image/png": "[encoded data removed]",
      "text/plain": [
       "<Figure size 432x288 with 1 Axes>"
      ]
     },
     "metadata": {
      "needs_background": "light"
     },
     "output_type": "display_data"
    },
    {
     "data": {
      "image/png": "[encoded data removed]",
      "text/plain": [
       "<Figure size 432x288 with 1 Axes>"
      ]
     },
     "metadata": {
      "needs_background": "light"
     },
     "output_type": "display_data"
    }
   ],
   "source": [
    "# Plot training scores\n",
    "plt.plot(train_p)\n",
    "plt.plot(train_r)\n",
    "plt.plot(train_f)\n",
    "plt.title('training')\n",
    "plt.ylabel('score')\n",
    "plt.xlabel('epoch')\n",
    "plt.legend([\"precision\", \"recall\", \"f1\"], loc='upper left')\n",
    "plt.show()\n",
    "\n",
    "# Plot validation scores\n",
    "plt.plot(val_p)\n",
    "plt.plot(val_r)\n",
    "plt.plot(val_f)\n",
    "plt.title('validation')\n",
    "plt.ylabel('score')\n",
    "plt.xlabel('epoch')\n",
    "plt.legend([\"precision\", \"recall\", \"f1\"], loc='upper left')\n",
    "plt.show()\n"
   ]
  }
 ],
 "metadata": {
  "accelerator": "GPU",
  "colab": {
   "collapsed_sections": [],
   "name": "rnn(1).ipynb",
   "provenance": []
  },
  "kernelspec": {
   "display_name": "Python 3",
   "name": "python3"
  },
  "language_info": {
   "codemirror_mode": {
    "name": "ipython",
    "version": 3
   },
   "file_extension": ".py",
   "mimetype": "text/x-python",
   "name": "python",
   "nbconvert_exporter": "python",
   "pygments_lexer": "ipython3",
   "version": "3.8.5"
  }
 },
 "nbformat": 4,
 "nbformat_minor": 0
}