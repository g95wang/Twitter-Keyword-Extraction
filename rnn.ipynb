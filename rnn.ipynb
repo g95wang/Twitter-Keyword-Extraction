{
  "nbformat": 4,
  "nbformat_minor": 0,
  "metadata": {
    "colab": {
      "name": "rnn.ipynb",
      "provenance": [],
      "collapsed_sections": [],
      "include_colab_link": true
    },
    "kernelspec": {
      "name": "python3",
      "display_name": "Python 3"
    },
    "accelerator": "GPU"
  },
  "cells": [
    {
      "cell_type": "markdown",
      "metadata": {
        "id": "view-in-github",
        "colab_type": "text"
      },
      "source": [
        "<a href=\"https://colab.research.google.com/github/g95wang/twitter_keyword_extraction/blob/main/rnn.ipynb\" target=\"_parent\"><img src=\"https://colab.research.google.com/assets/colab-badge.svg\" alt=\"Open In Colab\"/></a>"
      ]
    },
    {
      "cell_type": "code",
      "metadata": {
        "id": "C7KNY4WEGjP3"
      },
      "source": [
        "# !pip install git+https://github.com/howl-anderson/tf_crf_layer.git\\\n"
      ],
      "execution_count": null,
      "outputs": []
    },
    {
      "cell_type": "code",
      "metadata": {
        "id": "pwlPUBQa0Zdg"
      },
      "source": [
        "import zipfile\n",
        "with zipfile.ZipFile(\"processed-data-labeled.zip\",\"r\") as zip_ref:\n",
        "    zip_ref.extractall(\"./\")"
      ],
      "execution_count": 2,
      "outputs": []
    },
    {
      "cell_type": "code",
      "metadata": {
        "id": "xQlJnOuBFcEK"
      },
      "source": [
        "from copy import deepcopy\n",
        "import csv\n",
        "import os\n",
        "import numpy as np\n",
        "import tensorflow as tf\n",
        "from tensorflow.keras.models import Sequential\n",
        "from tensorflow.keras.layers import Embedding, Bidirectional, LSTM, Dense, Activation, Flatten, Input, Concatenate\n",
        "from tensorflow.keras.losses import BinaryCrossentropy\n",
        "import tensorflow_addons as tfa \n",
        "# from tf_crf_layer.layer import CRF\n",
        "# from tf_crf_layer.loss import crf_loss\n",
        "# from tf_crf_layer.metrics import crf_accuracy\n",
        "# from tf_crf_layer.crf_static_constraint_helper import allowed_transitions"
      ],
      "execution_count": 6,
      "outputs": []
    },
    {
      "cell_type": "code",
      "metadata": {
        "id": "zG-y5i499Qnu"
      },
      "source": [
        "threshold = 0.2\n",
        "hidden_size = 100\n",
        "word_embedding_dim = 300\n",
        "class_labels_number = 5\n",
        "num_text = 5\n",
        "epochs = 10\n",
        "\n",
        "labeled_dataset_size = 1830\n",
        "train_dataset_size = 900\n",
        "validation_dataset_size = 100\n",
        "test_dataset_size = 830\n",
        "unlabeled_dataset_size = 0\n",
        "\n",
        "pos_list = np.char.lower([\"ADJ\",\"ADP\",\"ADV\",\"AUX\",\"CONJ\",\"DET\",\"INTJ\",\"NOUN\",\"NUM\",\"PART\",\"PRON\",\"PROPN\",\"PUNCT\",\"SCONJ\",\"SYM\",\"VERB\",\"X\"])\n",
        "dep_list = np.char.lower([\"ROOT\", \"acl\", \"acomp\", \"advcl\", \"advmod\", \"agent\", \"amod\", \"appos\", \"attr\", \"aux\", \"auxpass\", \"case\", \"cc\", \"ccomp\", \"compound\", \"conj\", \"csubj\", \"csubjpass\", \"dative\", \"dep\", \"det\", \"dobj\", \"expl\", \"intj\", \"mark\", \"meta\", \"neg\", \"nmod\", \"npadvmod\", \"nsubj\", \"nsubjpass\", \"nummod\", \"oprd\", \"parataxis\", \"pcomp\", \"pobj\", \"poss\", \"preconj\", \"predet\", \"prep\", \"prt\", \"punct\", \"quantmod\", \"relcl\", \"xcomp\"])\n",
        "\n",
        "pos_dim = len(pos_list)\n",
        "dep_dim = len(dep_list)"
      ],
      "execution_count": 7,
      "outputs": []
    },
    {
      "cell_type": "code",
      "metadata": {
        "id": "71AmTAhcjUE7"
      },
      "source": [
        "def one_hot(vec, dic):\n",
        "    vec = np.char.lower(vec)\n",
        "    return np.array([dic == row for row in vec], dtype='i1')"
      ],
      "execution_count": 8,
      "outputs": []
    },
    {
      "cell_type": "code",
      "metadata": {
        "id": "hD_hXorkv6SE"
      },
      "source": [
        "labeled_dataset = []\n",
        "unlabeled_dataset = []\n",
        "\n",
        "train_dataset = []\n",
        "validation_dataset = []\n",
        "test_dataset = []\n",
        "\n",
        "for i in range(1, labeled_dataset_size + 1):\n",
        "    filename = \"processed-data-labeled/processed-labeled-tweet-{}.csv\".format(i)\n",
        "    if os.path.exists(filename):\n",
        "        with open(filename, newline='') as csvfile:\n",
        "            spamreader = csv.reader(csvfile, delimiter=',', quotechar='|')\n",
        "            data = [tuple(x) for x in spamreader]\n",
        "            data = np.array(data, dtype=([(\"text\", 'U20'),(\"simplified_text\", 'U20'), (\"best_match\", 'U20'), (\"index\", int), (\"pos\", 'U20'), (\"dep\", 'U20'), (\"stop\", 'U5'), (\"label\", 'i1')]))\n",
        "            if len(data):\n",
        "                labeled_dataset.append(data)\n",
        "\n",
        "\n",
        "for i in range(len(labeled_dataset)):\n",
        "    tweet = labeled_dataset[i]\n",
        "    text = tf.reshape(tweet[\"index\"], (1, -1, 1))\n",
        "    pos = tf.reshape(one_hot(tweet[\"pos\"], pos_list), (1, -1, pos_dim))\n",
        "    dep = tf.reshape(one_hot(tweet[\"dep\"], dep_list), (1, -1, dep_dim))\n",
        "    label = tf.reshape(tf.one_hot(tweet[\"label\"], 2), (1, -1, 2))\n",
        "    train_dataset.append((np.concatenate((text, pos, dep), axis=-1), label))\n",
        "\n",
        "validation_dataset = train_dataset[901:1001]\n",
        "test_dataset = train_dataset[1001:]\n",
        "train_dataset = train_dataset[:901]\n",
        "\n",
        "# for i in range(1, 5):\n",
        "#     filename = \"processed-tweet-{}.csv\".format(i)\n",
        "#     with open(filename, newline='') as csvfile:\n",
        "#         spamreader = csv.reader(csvfile, delimiter=',', quotechar='|')\n",
        "#         unlabeled_dataset.append(np.array(list(spamreader)))"
      ],
      "execution_count": 9,
      "outputs": []
    },
    {
      "cell_type": "code",
      "metadata": {
        "id": "zafkheWi_UUW",
        "outputId": "19f2c463-62d2-4ec2-a58b-704627ade702",
        "colab": {
          "base_uri": "https://localhost:8080/"
        }
      },
      "source": [
        "inputs = Input(shape=(None, pos_dim+dep_dim+1))\n",
        "x = Embedding(380000, word_embedding_dim)(inputs[:,:,0])\n",
        "x = Concatenate(axis=-1)([inputs[:,:,1:], x])\n",
        "x = Bidirectional(LSTM(100, return_sequences=True))(x)\n",
        "outputs = Dense(2, activation=tf.nn.sigmoid)(x)\n",
        "model = tf.keras.Model(inputs=inputs, outputs=outputs)\n",
        "model.summary()\n",
        "\n",
        "opt = tf.keras.optimizers.Adam(\n",
        "    learning_rate=0.01, beta_1=0.9, beta_2=0.999, epsilon=1e-07, amsgrad=False\n",
        ")\n",
        "model.compile(loss=BinaryCrossentropy(),metrics=[tf.keras.metrics.Precision(), tf.keras.metrics.Recall()], optimizer=opt)"
      ],
      "execution_count": 10,
      "outputs": [
        {
          "output_type": "stream",
          "text": [
            "Model: \"functional_1\"\n",
            "__________________________________________________________________________________________________\n",
            "Layer (type)                    Output Shape         Param #     Connected to                     \n",
            "==================================================================================================\n",
            "input_1 (InputLayer)            [(None, None, 63)]   0                                            \n",
            "__________________________________________________________________________________________________\n",
            "tf_op_layer_strided_slice (Tens [(None, None)]       0           input_1[0][0]                    \n",
            "__________________________________________________________________________________________________\n",
            "tf_op_layer_strided_slice_1 (Te [(None, None, 62)]   0           input_1[0][0]                    \n",
            "__________________________________________________________________________________________________\n",
            "embedding (Embedding)           (None, None, 300)    114000000   tf_op_layer_strided_slice[0][0]  \n",
            "__________________________________________________________________________________________________\n",
            "concatenate (Concatenate)       (None, None, 362)    0           tf_op_layer_strided_slice_1[0][0]\n",
            "                                                                 embedding[0][0]                  \n",
            "__________________________________________________________________________________________________\n",
            "bidirectional (Bidirectional)   (None, None, 200)    370400      concatenate[0][0]                \n",
            "__________________________________________________________________________________________________\n",
            "dense (Dense)                   (None, None, 2)      402         bidirectional[0][0]              \n",
            "==================================================================================================\n",
            "Total params: 114,370,802\n",
            "Trainable params: 114,370,802\n",
            "Non-trainable params: 0\n",
            "__________________________________________________________________________________________________\n"
          ],
          "name": "stdout"
        }
      ]
    },
    {
      "cell_type": "code",
      "metadata": {
        "id": "d76m7j_lxddr"
      },
      "source": [
        "def train_step(tweet):\n",
        "    x,y = tweet[0], tweet[1]\n",
        "    model.fit(x, y, verbose=1)"
      ],
      "execution_count": 12,
      "outputs": []
    },
    {
      "cell_type": "code",
      "metadata": {
        "id": "Lryr-avIH-mC"
      },
      "source": [
        "def eval_step(tweet):\n",
        "    x,y = tweet[0], tweet[1]\n",
        "    return model.evaluate(x, y, verbose=0)"
      ],
      "execution_count": 13,
      "outputs": []
    },
    {
      "cell_type": "code",
      "metadata": {
        "id": "LAtJMaJ6XOWo"
      },
      "source": [
        "def predict_step(tweet):\n",
        "    return model.predict(tweet)"
      ],
      "execution_count": 14,
      "outputs": []
    },
    {
      "cell_type": "code",
      "metadata": {
        "id": "6OB2W1W7dAi6"
      },
      "source": [
        "def neg_log(prediction):\n",
        "    return -np.mean(np.log(np.amax(prediction, axis=-1)))"
      ],
      "execution_count": 15,
      "outputs": []
    },
    {
      "cell_type": "code",
      "metadata": {
        "id": "sjV4QhB9urAJ"
      },
      "source": [
        "p, r, f = [], [], []\n",
        "\n",
        "def semi_supervised():\n",
        "    for epoch in range(epochs):\n",
        "\n",
        "        print(\"Training epoch {}\".format(epoch+1))\n",
        "        count = 0\n",
        "        for tweet in train_dataset:\n",
        "            if count % 100 == 0:\n",
        "                print(\"Training iter {}\".format(count))\n",
        "            train_step(tweet)\n",
        "            count += 1\n",
        "\n",
        "        print(\"Validation\")\n",
        "        total = 0\n",
        "        precision, recall = 0, 0\n",
        "        for tweet in validation_dataset:\n",
        "            res = eval_step(tweet)\n",
        "            print(tweet.shape[1])\n",
        "            total += tweet.shape[1]\n",
        "            precision += res[0]\n",
        "            recall += res[1]\n",
        "\n",
        "        p.append(precision / total)\n",
        "        r.append(recall / total)\n",
        "        f.append(2 / (total / precision + total / recall))\n",
        "        print(p,r,f)\n",
        "\n",
        "        print(\"Enlarging training set\")\n",
        "        for tweet in unlabeled_dataset:\n",
        "            prediction = predict_step(tweet)\n",
        "            if neg_log(prediction) < threshold:\n",
        "                print(\"here\")\n",
        "                # label = \n",
        "    # for tweet in validation_dataset:\n",
        "    #     eval_step(tweet)"
      ],
      "execution_count": 16,
      "outputs": []
    },
    {
      "cell_type": "code",
      "metadata": {
        "id": "kk74kr-28h6D"
      },
      "source": [
        "semi_supervised()"
      ],
      "execution_count": null,
      "outputs": []
    },
    {
      "cell_type": "code",
      "metadata": {
        "id": "lHVKcBMKZ6a-"
      },
      "source": [
        "sum = 0\n",
        "p,r=0,0\n",
        "for tweet in test_dataset:\n",
        "    eval = eval_step(tweet)\n",
        "    precision, recall = eval[0], eval[1]\n",
        "    p+=precision\n",
        "    r+=recall\n",
        "print(p/len(test_dataset))\n",
        "print(r/len(test_dataset))"
      ],
      "execution_count": null,
      "outputs": []
    }
  ]
}