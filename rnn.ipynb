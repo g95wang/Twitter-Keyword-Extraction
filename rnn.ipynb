{
 "cells": [
  {
   "cell_type": "code",
   "execution_count": 1,
   "metadata": {
    "id": "C7KNY4WEGjP3"
   },
   "outputs": [],
   "source": [
    "# !pip install git+https://github.com/howl-anderson/tf_crf_layer.git\\\n"
   ]
  },
  {
   "cell_type": "code",
   "execution_count": 2,
   "metadata": {
    "id": "pwlPUBQa0Zdg"
   },
   "outputs": [],
   "source": [
    "# import zipfile\n",
    "# with zipfile.ZipFile(\"processed-data-labeled.zip\",\"r\") as zip_ref:\n",
    "#     zip_ref.extractall(\"./\")"
   ]
  },
  {
   "cell_type": "code",
   "execution_count": 3,
   "metadata": {
    "id": "xQlJnOuBFcEK"
   },
   "outputs": [],
   "source": [
    "from copy import deepcopy\n",
    "import csv\n",
    "import os\n",
    "import numpy as np\n",
    "import tensorflow as tf\n",
    "from tensorflow.keras.models import Sequential\n",
    "from tensorflow.keras.layers import Embedding, Bidirectional, LSTM, Dense, Activation, Flatten, Input, Concatenate\n",
    "from tensorflow.keras.losses import BinaryCrossentropy\n",
    "import tensorflow_addons as tfa \n",
    "import matplotlib.pyplot as plt\n",
    "# from tf_crf_layer.layer import CRF\n",
    "# from tf_crf_layer.loss import crf_loss\n",
    "# from tf_crf_layer.metrics import crf_accuracy\n",
    "# from tf_crf_layer.crf_static_constraint_helper import allowed_transitions"
   ]
  },
  {
   "cell_type": "code",
   "execution_count": 4,
   "metadata": {
    "id": "zG-y5i499Qnu"
   },
   "outputs": [],
   "source": [
    "threshold = 0.2\n",
    "hidden_size = 100\n",
    "word_embedding_dim = 300\n",
    "class_labels_number = 5\n",
    "num_text = 5\n",
    "epochs = 20\n",
    "\n",
    "labeled_dataset_size = 1830\n",
    "train_dataset_size = 900\n",
    "validation_dataset_size = 100\n",
    "test_dataset_size = 830\n",
    "unlabeled_dataset_size = 0\n",
    "\n",
    "pos_list = np.char.lower([\"ADJ\",\"ADP\",\"ADV\",\"AUX\",\"CONJ\",\"DET\",\"INTJ\",\"NOUN\",\"NUM\",\"PART\",\"PRON\",\"PROPN\",\"PUNCT\",\"SCONJ\",\"SYM\",\"VERB\",\"X\"])\n",
    "dep_list = np.char.lower([\"ROOT\", \"acl\", \"acomp\", \"advcl\", \"advmod\", \"agent\", \"amod\", \"appos\", \"attr\", \"aux\", \"auxpass\", \"case\", \"cc\", \"ccomp\", \"compound\", \"conj\", \"csubj\", \"csubjpass\", \"dative\", \"dep\", \"det\", \"dobj\", \"expl\", \"intj\", \"mark\", \"meta\", \"neg\", \"nmod\", \"npadvmod\", \"nsubj\", \"nsubjpass\", \"nummod\", \"oprd\", \"parataxis\", \"pcomp\", \"pobj\", \"poss\", \"preconj\", \"predet\", \"prep\", \"prt\", \"punct\", \"quantmod\", \"relcl\", \"xcomp\"])\n",
    "\n",
    "pos_dim = len(pos_list)\n",
    "dep_dim = len(dep_list)"
   ]
  },
  {
   "cell_type": "code",
   "execution_count": 5,
   "metadata": {
    "id": "71AmTAhcjUE7"
   },
   "outputs": [],
   "source": [
    "def one_hot(vec, dic):\n",
    "    vec = np.char.lower(vec)\n",
    "    return np.array([dic == row for row in vec], dtype='i1')"
   ]
  },
  {
   "cell_type": "code",
   "execution_count": 6,
   "metadata": {
    "id": "hD_hXorkv6SE"
   },
   "outputs": [],
   "source": [
    "labeled_dataset = []\n",
    "unlabeled_dataset = []\n",
    "\n",
    "train_dataset = []\n",
    "validation_dataset = []\n",
    "test_dataset = []\n",
    "\n",
    "for i in range(1, labeled_dataset_size + 1):\n",
    "    filename = \"processed-data-labeled/processed-labeled-tweet-{}.csv\".format(i)\n",
    "    if os.path.exists(filename):\n",
    "        with open(filename, newline='') as csvfile:\n",
    "            spamreader = csv.reader(csvfile, delimiter=',', quotechar='|')\n",
    "            data = [tuple(x) for x in spamreader]\n",
    "            data = np.array(data, dtype=([(\"text\", 'U20'),(\"simplified_text\", 'U20'), (\"best_match\", 'U20'), (\"index\", int), (\"pos\", 'U20'), (\"dep\", 'U20'), (\"stop\", 'U5'), (\"label\", 'i1')]))\n",
    "            if len(data):\n",
    "                labeled_dataset.append(data)\n",
    "\n",
    "\n",
    "for i in range(len(labeled_dataset)):\n",
    "    tweet = labeled_dataset[i]\n",
    "    text = tf.reshape(tweet[\"index\"], (1, -1, 1))\n",
    "    pos = tf.reshape(one_hot(tweet[\"pos\"], pos_list), (1, -1, pos_dim))\n",
    "    dep = tf.reshape(one_hot(tweet[\"dep\"], dep_list), (1, -1, dep_dim))\n",
    "    label = tf.reshape(tf.one_hot(tweet[\"label\"], 2), (1, -1, 2))\n",
    "    train_dataset.append((np.concatenate((text, pos, dep), axis=-1), label))\n",
    "\n",
    "validation_dataset = train_dataset[901:1001]\n",
    "test_dataset = train_dataset[1001:]\n",
    "train_dataset = train_dataset[:901]\n",
    "\n",
    "# for i in range(1, 5):\n",
    "#     filename = \"processed-tweet-{}.csv\".format(i)\n",
    "#     with open(filename, newline='') as csvfile:\n",
    "#         spamreader = csv.reader(csvfile, delimiter=',', quotechar='|')\n",
    "#         unlabeled_dataset.append(np.array(list(spamreader)))"
   ]
  },
  {
   "cell_type": "code",
   "execution_count": 7,
   "metadata": {
    "colab": {
     "base_uri": "https://localhost:8080/"
    },
    "id": "zafkheWi_UUW",
    "outputId": "1a17a8be-ca6b-486e-83d8-94b317f8101b"
   },
   "outputs": [
    {
     "name": "stdout",
     "output_type": "stream",
     "text": [
      "Model: \"functional_1\"\n",
      "__________________________________________________________________________________________________\n",
      "Layer (type)                    Output Shape         Param #     Connected to                     \n",
      "==================================================================================================\n",
      "input_1 (InputLayer)            [(None, None, 63)]   0                                            \n",
      "__________________________________________________________________________________________________\n",
      "tf_op_layer_strided_slice (Tens [(None, None)]       0           input_1[0][0]                    \n",
      "__________________________________________________________________________________________________\n",
      "tf_op_layer_strided_slice_1 (Te [(None, None, 62)]   0           input_1[0][0]                    \n",
      "__________________________________________________________________________________________________\n",
      "embedding (Embedding)           (None, None, 300)    114000000   tf_op_layer_strided_slice[0][0]  \n",
      "__________________________________________________________________________________________________\n",
      "concatenate (Concatenate)       (None, None, 362)    0           tf_op_layer_strided_slice_1[0][0]\n",
      "                                                                 embedding[0][0]                  \n",
      "__________________________________________________________________________________________________\n",
      "bidirectional (Bidirectional)   (None, None, 200)    370400      concatenate[0][0]                \n",
      "__________________________________________________________________________________________________\n",
      "dense (Dense)                   (None, None, 2)      402         bidirectional[0][0]              \n",
      "==================================================================================================\n",
      "Total params: 114,370,802\n",
      "Trainable params: 114,370,802\n",
      "Non-trainable params: 0\n",
      "__________________________________________________________________________________________________\n"
     ]
    }
   ],
   "source": [
    "inputs = Input(shape=(None, pos_dim+dep_dim+1))\n",
    "x = Embedding(380000, word_embedding_dim)(inputs[:,:,0])\n",
    "x = Concatenate(axis=-1)([inputs[:,:,1:], x])\n",
    "x = Bidirectional(LSTM(100, return_sequences=True))(x)\n",
    "outputs = Dense(2, activation=tf.nn.sigmoid)(x)\n",
    "model = tf.keras.Model(inputs=inputs, outputs=outputs)\n",
    "model.summary()\n",
    "\n",
    "opt = tf.keras.optimizers.Adam(\n",
    "    learning_rate=0.01, beta_1=0.9, beta_2=0.999, epsilon=1e-07, amsgrad=False\n",
    ")\n",
    "model.compile(loss=BinaryCrossentropy(),metrics=[tf.keras.metrics.Precision(), tf.keras.metrics.Recall()], optimizer=opt)"
   ]
  },
  {
   "cell_type": "code",
   "execution_count": 8,
   "metadata": {
    "id": "d76m7j_lxddr"
   },
   "outputs": [],
   "source": [
    "def train_step(tweet):\n",
    "    x,y = tweet[0], tweet[1]\n",
    "    hist = model.fit(x, y, verbose=0).history\n",
    "    return (hist[\"precision\"][-1], hist[\"recall\"][-1])"
   ]
  },
  {
   "cell_type": "code",
   "execution_count": 9,
   "metadata": {
    "id": "Lryr-avIH-mC"
   },
   "outputs": [],
   "source": [
    "def eval_step(tweet):\n",
    "    x,y = tweet[0], tweet[1]\n",
    "    return model.evaluate(x, y, verbose=0)"
   ]
  },
  {
   "cell_type": "code",
   "execution_count": 10,
   "metadata": {
    "id": "LAtJMaJ6XOWo"
   },
   "outputs": [],
   "source": [
    "def predict_step(tweet):\n",
    "    return model.predict(tweet)"
   ]
  },
  {
   "cell_type": "code",
   "execution_count": 11,
   "metadata": {
    "id": "6OB2W1W7dAi6"
   },
   "outputs": [],
   "source": [
    "def neg_log(prediction):\n",
    "    return -np.mean(np.log(np.amax(prediction, axis=-1)))"
   ]
  },
  {
   "cell_type": "code",
   "execution_count": 12,
   "metadata": {
    "id": "sjV4QhB9urAJ"
   },
   "outputs": [],
   "source": [
    "train_p, train_r, train_f = [], [], []\n",
    "val_p, val_r, val_f = [], [], []\n",
    "\n",
    "def semi_supervised():\n",
    "    for epoch in range(epochs):\n",
    "\n",
    "        print(\"Training epoch {}\".format(epoch+1))\n",
    "        count = 0\n",
    "        total = 0\n",
    "        precision, recall = 0, 0\n",
    "        for tweet in train_dataset:\n",
    "            if count % 100 == 0:\n",
    "                print(\"Training iter {}\".format(count))\n",
    "            res = train_step(tweet)\n",
    "            total += 1\n",
    "            precision += res[0]\n",
    "            recall += res[1]\n",
    "            count += 1\n",
    "        train_p.append(precision / total)\n",
    "        train_r.append(recall / total)\n",
    "        train_f.append(2 / (total / precision + total / recall))\n",
    "\n",
    "        print(\"Validation\")\n",
    "        total = 0\n",
    "        precision, recall = 0, 0\n",
    "        for tweet in validation_dataset:\n",
    "            res = eval_step(tweet)\n",
    "            total += 1\n",
    "            precision += res[1]\n",
    "            recall += res[2]\n",
    "\n",
    "        if len(val_f) == 0 or 2 / (total / precision + total / recall) > np.amax(val_f):\n",
    "            model.save_weights('./checkpoint')\n",
    "\n",
    "        val_p.append(precision / total)\n",
    "        val_r.append(recall / total)\n",
    "        val_f.append(2 / (total / precision + total / recall))\n",
    "\n",
    "        # print(\"Enlarging training set\")\n",
    "        # for tweet in unlabeled_dataset:\n",
    "        #     prediction = predict_step(tweet)\n",
    "        #     if neg_log(prediction) < threshold:\n",
    "        #         print(\"here\")\n",
    "        #         label = \n",
    "\n",
    "    model.load_weights('./checkpoint')\n",
    "    for tweet in test_dataset:\n",
    "        res = eval_step(tweet)\n",
    "        total += 1\n",
    "        precision += res[1]\n",
    "        recall += res[2]\n",
    "    print(\"Test Dataset precision = {}, recall = {}, f1 = {}\".format(precision / total, recall / total, 2 / (total / precision + total / recall)))\n"
   ]
  },
  {
   "cell_type": "code",
   "execution_count": 13,
   "metadata": {
    "colab": {
     "base_uri": "https://localhost:8080/"
    },
    "id": "kk74kr-28h6D",
    "outputId": "0b550ebf-698d-437a-d3d0-fdba10a988a2"
   },
   "outputs": [
    {
     "name": "stdout",
     "output_type": "stream",
     "text": [
      "Training epoch 1\n",
      "Training iter 0\n",
      "Training iter 100\n",
      "Training iter 200\n",
      "Training iter 300\n",
      "Training iter 400\n",
      "Training iter 500\n",
      "Training iter 600\n",
      "Training iter 700\n",
      "Training iter 800\n",
      "Training iter 900\n",
      "Validation\n",
      "Training epoch 2\n",
      "Training iter 0\n",
      "Training iter 100\n",
      "Training iter 200\n",
      "Training iter 300\n",
      "Training iter 400\n",
      "Training iter 500\n",
      "Training iter 600\n",
      "Training iter 700\n",
      "Training iter 800\n",
      "Training iter 900\n",
      "Validation\n",
      "Training epoch 3\n",
      "Training iter 0\n",
      "Training iter 100\n",
      "Training iter 200\n",
      "Training iter 300\n",
      "Training iter 400\n",
      "Training iter 500\n",
      "Training iter 600\n",
      "Training iter 700\n",
      "Training iter 800\n",
      "Training iter 900\n",
      "Validation\n",
      "Training epoch 4\n",
      "Training iter 0\n",
      "Training iter 100\n",
      "Training iter 200\n",
      "Training iter 300\n",
      "Training iter 400\n",
      "Training iter 500\n",
      "Training iter 600\n",
      "Training iter 700\n",
      "Training iter 800\n",
      "Training iter 900\n",
      "Validation\n",
      "Training epoch 5\n",
      "Training iter 0\n",
      "Training iter 100\n",
      "Training iter 200\n",
      "Training iter 300\n",
      "Training iter 400\n",
      "Training iter 500\n",
      "Training iter 600\n",
      "Training iter 700\n",
      "Training iter 800\n",
      "Training iter 900\n",
      "Validation\n",
      "Training epoch 6\n",
      "Training iter 0\n",
      "Training iter 100\n",
      "Training iter 200\n",
      "Training iter 300\n",
      "Training iter 400\n",
      "Training iter 500\n",
      "Training iter 600\n",
      "Training iter 700\n",
      "Training iter 800\n",
      "Training iter 900\n",
      "Validation\n",
      "Training epoch 7\n",
      "Training iter 0\n",
      "Training iter 100\n",
      "Training iter 200\n",
      "Training iter 300\n",
      "Training iter 400\n",
      "Training iter 500\n",
      "Training iter 600\n",
      "Training iter 700\n",
      "Training iter 800\n",
      "Training iter 900\n",
      "Validation\n",
      "Training epoch 8\n",
      "Training iter 0\n",
      "Training iter 100\n",
      "Training iter 200\n",
      "Training iter 300\n",
      "Training iter 400\n",
      "Training iter 500\n",
      "Training iter 600\n",
      "Training iter 700\n",
      "Training iter 800\n",
      "Training iter 900\n",
      "Validation\n",
      "Training epoch 9\n",
      "Training iter 0\n",
      "Training iter 100\n",
      "Training iter 200\n",
      "Training iter 300\n",
      "Training iter 400\n",
      "Training iter 500\n",
      "Training iter 600\n",
      "Training iter 700\n",
      "Training iter 800\n",
      "Training iter 900\n",
      "Validation\n",
      "Training epoch 10\n",
      "Training iter 0\n",
      "Training iter 100\n",
      "Training iter 200\n",
      "Training iter 300\n",
      "Training iter 400\n",
      "Training iter 500\n",
      "Training iter 600\n",
      "Training iter 700\n",
      "Training iter 800\n",
      "Training iter 900\n",
      "Validation\n",
      "Training epoch 11\n",
      "Training iter 0\n",
      "Training iter 100\n",
      "Training iter 200\n",
      "Training iter 300\n",
      "Training iter 400\n",
      "Training iter 500\n",
      "Training iter 600\n",
      "Training iter 700\n",
      "Training iter 800\n",
      "Training iter 900\n",
      "Validation\n",
      "Training epoch 12\n",
      "Training iter 0\n",
      "Training iter 100\n",
      "Training iter 200\n",
      "Training iter 300\n",
      "Training iter 400\n",
      "Training iter 500\n",
      "Training iter 600\n",
      "Training iter 700\n",
      "Training iter 800\n",
      "Training iter 900\n",
      "Validation\n",
      "Training epoch 13\n",
      "Training iter 0\n",
      "Training iter 100\n",
      "Training iter 200\n",
      "Training iter 300\n",
      "Training iter 400\n",
      "Training iter 500\n",
      "Training iter 600\n",
      "Training iter 700\n",
      "Training iter 800\n",
      "Training iter 900\n",
      "Validation\n",
      "Training epoch 14\n",
      "Training iter 0\n",
      "Training iter 100\n",
      "Training iter 200\n",
      "Training iter 300\n",
      "Training iter 400\n",
      "Training iter 500\n",
      "Training iter 600\n",
      "Training iter 700\n",
      "Training iter 800\n",
      "Training iter 900\n",
      "Validation\n",
      "Training epoch 15\n",
      "Training iter 0\n",
      "Training iter 100\n",
      "Training iter 200\n",
      "Training iter 300\n",
      "Training iter 400\n",
      "Training iter 500\n",
      "Training iter 600\n",
      "Training iter 700\n",
      "Training iter 800\n",
      "Training iter 900\n",
      "Validation\n",
      "Training epoch 16\n",
      "Training iter 0\n",
      "Training iter 100\n",
      "Training iter 200\n",
      "Training iter 300\n",
      "Training iter 400\n",
      "Training iter 500\n",
      "Training iter 600\n",
      "Training iter 700\n",
      "Training iter 800\n",
      "Training iter 900\n",
      "Validation\n",
      "Training epoch 17\n",
      "Training iter 0\n",
      "Training iter 100\n",
      "Training iter 200\n",
      "Training iter 300\n",
      "Training iter 400\n",
      "Training iter 500\n",
      "Training iter 600\n",
      "Training iter 700\n",
      "Training iter 800\n",
      "Training iter 900\n",
      "Validation\n",
      "Training epoch 18\n",
      "Training iter 0\n",
      "Training iter 100\n",
      "Training iter 200\n",
      "Training iter 300\n",
      "Training iter 400\n",
      "Training iter 500\n",
      "Training iter 600\n",
      "Training iter 700\n",
      "Training iter 800\n",
      "Training iter 900\n",
      "Validation\n",
      "Training epoch 19\n",
      "Training iter 0\n",
      "Training iter 100\n",
      "Training iter 200\n",
      "Training iter 300\n",
      "Training iter 400\n",
      "Training iter 500\n",
      "Training iter 600\n",
      "Training iter 700\n",
      "Training iter 800\n",
      "Training iter 900\n",
      "Validation\n",
      "Training epoch 20\n",
      "Training iter 0\n",
      "Training iter 100\n",
      "Training iter 200\n",
      "Training iter 300\n",
      "Training iter 400\n",
      "Training iter 500\n",
      "Training iter 600\n",
      "Training iter 700\n",
      "Training iter 800\n",
      "Training iter 900\n",
      "Validation\n",
      "Test Dataset precision = 0.7274462310494957, recall = 0.7274462310494957, f1 = 0.7274462310494958\n"
     ]
    }
   ],
   "source": [
    "semi_supervised()"
   ]
  },
  {
   "cell_type": "code",
   "execution_count": 14,
   "metadata": {
    "colab": {
     "base_uri": "https://localhost:8080/"
    },
    "id": "_QAAaqh0Hywq",
    "outputId": "5df5fbb1-7930-4ab9-cec1-d74285a12581"
   },
   "outputs": [
    {
     "name": "stdout",
     "output_type": "stream",
     "text": [
      "[0.7504520668306044, 0.8642842539407305, 0.8840164900752204, 0.8883401345664204, 0.894938658530122, 0.8982084830116882, 0.8976287235496576, 0.9022382275841212, 0.9083866967874414, 0.9110310194428832, 0.9148372475897167, 0.919873966857146, 0.9238686083953468, 0.9304891424491324, 0.9254454997482893, 0.9295546304306365, 0.9277766342631455, 0.9343787520032347, 0.9362196010371027, 0.938061324691402] [0.7497302273765918, 0.8631627302984816, 0.8842921061865101, 0.8883011183979509, 0.8949317247436261, 0.8982668976143383, 0.8975208187672195, 0.90219733734242, 0.9083866967874414, 0.911084065062886, 0.9148372475897167, 0.919873966857146, 0.9238686083953468, 0.9304891424491324, 0.9253946303262827, 0.9295546304306365, 0.9277766342631455, 0.9343787520032347, 0.9362196010371027, 0.938061324691402] [0.7500909734406374, 0.863723128051912, 0.8841542766515146, 0.8883206260537756, 0.8949351916234436, 0.8982376893633021, 0.89757476791541, 0.9022177819999646, 0.9083866967874414, 0.9110575414807496, 0.9148372475897167, 0.9198739668571461, 0.9238686083953467, 0.9304891424491323, 0.9254200643382255, 0.9295546304306365, 0.9277766342631455, 0.9343787520032348, 0.9362196010371028, 0.938061324691402]\n",
      "[0.7657055777311325, 0.7570704087615013, 0.746335341334343, 0.7356528300046921, 0.7299285551905632, 0.7356680530309677, 0.7403334528207779, 0.7170898944139481, 0.7393522363901138, 0.7352434906363488, 0.767819419503212, 0.7373397409915924, 0.722073575258255, 0.7244464069604873, 0.726690066754818, 0.7178324010968208, 0.7095270735025406, 0.7146400392055512, 0.7118959304690361, 0.7141429093480111] [0.7693499219417572, 0.756348866224289, 0.745499058663845, 0.735122526884079, 0.7303963914513588, 0.7356680530309677, 0.7403334528207779, 0.7170898944139481, 0.7393522363901138, 0.7352434906363488, 0.767819419503212, 0.7373397409915924, 0.722073575258255, 0.7244464069604873, 0.726690066754818, 0.7178324010968208, 0.7095270735025406, 0.7146400392055512, 0.7118959304690361, 0.7141429093480111] [0.7675234238545084, 0.7567094654904496, 0.7459169656001872, 0.7353875828412744, 0.7301623983818978, 0.7356680530309677, 0.7403334528207779, 0.717089894413948, 0.7393522363901138, 0.7352434906363488, 0.767819419503212, 0.7373397409915925, 0.722073575258255, 0.7244464069604873, 0.726690066754818, 0.7178324010968208, 0.7095270735025406, 0.7146400392055512, 0.7118959304690361, 0.7141429093480111]\n"
     ]
    }
   ],
   "source": [
    "print(train_p, train_r, train_f)\n",
    "print(val_p, val_r, val_f)"
   ]
  },
  {
   "cell_type": "code",
   "execution_count": 15,
   "metadata": {
    "colab": {
     "base_uri": "https://localhost:8080/",
     "height": 573
    },
    "id": "LIF_4MjNJL3W",
    "outputId": "31aa032e-8583-4bac-ab4f-3305196df6bc"
   },
   "outputs": [
    {
     "data": {
      "image/png": "[encoded data removed]",
      "text/plain": [
       "<Figure size 432x288 with 1 Axes>"
      ]
     },
     "metadata": {
      "needs_background": "light"
     },
     "output_type": "display_data"
    },
    {
     "data": {
      "image/png": "[encoded data removed]",
      "text/plain": [
       "<Figure size 432x288 with 1 Axes>"
      ]
     },
     "metadata": {
      "needs_background": "light"
     },
     "output_type": "display_data"
    }
   ],
   "source": [
    "# Plot training accuracy\n",
    "plt.plot(train_p)\n",
    "plt.plot(train_r)\n",
    "plt.plot(train_f)\n",
    "plt.title('training')\n",
    "plt.ylabel('score')\n",
    "plt.xlabel('epoch')\n",
    "plt.legend([\"precision\", \"recall\", \"f1\"], loc='upper left')\n",
    "plt.show()\n",
    "\n",
    "# Plot validation accuracy\n",
    "plt.plot(val_p)\n",
    "plt.plot(val_r)\n",
    "plt.plot(val_f)\n",
    "plt.title('validation')\n",
    "plt.ylabel('score')\n",
    "plt.xlabel('epoch')\n",
    "plt.legend([\"precision\", \"recall\", \"f1\"], loc='upper left')\n",
    "plt.show()\n"
   ]
  }
 ],
 "metadata": {
  "accelerator": "GPU",
  "colab": {
   "collapsed_sections": [],
   "name": "rnn.ipynb",
   "provenance": []
  },
  "kernelspec": {
   "display_name": "Python 3",
   "name": "python3"
  },
  "language_info": {
   "codemirror_mode": {
    "name": "ipython",
    "version": 3
   },
   "file_extension": ".py",
   "mimetype": "text/x-python",
   "name": "python",
   "nbconvert_exporter": "python",
   "pygments_lexer": "ipython3",
   "version": "3.8.5"
  }
 },
 "nbformat": 4,
 "nbformat_minor": 0
}
